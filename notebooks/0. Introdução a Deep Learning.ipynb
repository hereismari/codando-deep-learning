{
 "cells": [
  {
   "cell_type": "markdown",
   "metadata": {},
   "source": [
    "# 0. Introdução a Deep Learning"
   ]
  },
  {
   "cell_type": "markdown",
   "metadata": {},
   "source": [
    "Deep Learning têm recebido [bastante atenção nos últimos anos](https://trends.google.com/trends/explore?date=all&q=Deep%20Learning), tanto no campo da computação como na mídia em geral.\n",
    "\n",
    "Técnicas de Deep Learning se tornaram o estado da arte em várias tarefas de Inteligência Artificial e mudado vários grandes campos da área, na visão computacional (classificação de imagens, segmentação de imagens), NLP (tradução, classificação de textos), reinforcement learning (agentes capazes de jogar jogos complexos como Go, Atari e DOTA).\n",
    "\n",
    "Além de impactar várias áreas da computação, técnicas de Deep Learning estão mudando o campo da Medicina, Ciência e Matemática. Artigos de Deep Learning são rotinamente publicados em grandes revistas científicas como: Nature, Science e JAMA.\n",
    "\n",
    "Nesta seção iremos discutir o que é Deep Learning, por que este grande sucesso nesse momento? E por que você como programador(a) deveria se importar!"
   ]
  },
  {
   "cell_type": "markdown",
   "metadata": {},
   "source": [
    "## Inteligência Artificial $\\supseteq$ Machine Learning $\\supseteq$ Deep Learning"
   ]
  },
  {
   "cell_type": "markdown",
   "metadata": {},
   "source": [
    "\n",
    "<img align='center' src='images/IA_ML_DL.png' width=500>"
   ]
  },
  {
   "cell_type": "markdown",
   "metadata": {},
   "source": [
    "**Como IA (Inteligência Artificial), ML (Machine Learning) e DL (Deep Learning) se relacionam?** Esses termos são utilizados na mídia (e muitas vezes na área) quase como sinônimos.\n",
    "\n",
    "**Inteligência Artificial** se refere ao campo da ciência da computação que se preocupa com o estudo de máquinas para realização de atividades ditas inteligentes. Esse é um grande campo com diferentes \"escolas\"/\"ramificações\". Inteligência é um conceito muito amplo e bastante subjetivo.\n",
    "\n",
    "Uma grande pergunta é **como** construir máquinas inteligentes?\n",
    "\n",
    "**Machine Learning** se refere ao subcampo da IA que busca extrair estrutura e inteligência dos dados (experiência).\n",
    "\n",
    "> *\"Um computador aprende a partir da experiência **E** com respeito a alguma tarefa **T** e alguma medida de performance **P**, se sua performance em **T** melhora com sua experiência **E**\" - [Tom Mitchell (1998)](http://www.cs.cmu.edu/~tom/)\n",
    "\n",
    "<img align='center' src='images/ml_definition.png' width=500>\n",
    "\n",
    "A ideia de ML é que, para realizar uma tarefa, nós (programadoras(es)) não implementemos as regras que definem as saídas para uma dada entrada. Imagine que queremos traduzir **qualquer** frase do inglês para português, quais regras iremos utilizar? Listar todas as traduções e regras possíveis é não trivial.\n",
    "\n",
    "> *“A complexidade de programas de computadores convencionasis está no código (programas que as pessoas escrevem). Em Machine Learning, algoritmos são em princípio simples e a complexidade (estrutura) está nos dados. Existe uma maneira de aprender essa estrutura automaticamente? Esse é o princípio fundamental de Machine Learning.”- [Andrew Ng](https://en.wikipedia.org/wiki/Andrew_Ng)*\n",
    "\n",
    "Ao invés de listar as regras e funcionamento do sistema podemos utilizar um **modelo de Machine Learning**, e mostrar para o modelo vários exemplos de frases em inglês traduzidas para português. Padrões são extraídos dos dados e utilizados para que o modelo defina como tomar suas próprias decisões de modo a otimizar a tradução.\n",
    "\n",
    "Modelos de Machine Learning extraem padrões dos dados, e claro são **extremamente** dependentes da qualidade dos dados para sucesso em suas tarefas, mas também depende de **como os dados são representados**. Por exemplo, como um modelo de ML deve representar uma frase?\n",
    "\n",
    "<img src='https://media.giphy.com/media/1X7lCRp8iE0yrdZvwd/giphy.gif' width=400>\n",
    "\n",
    "\n",
    "Seria muito bom não ter que se preocupar com a representação dos dados... Tipo, dar para o modelo uma representação bastante simplificada e ele que se vire pra encontrar algum sentindo nesse dado **bruto**...\n",
    "\n",
    "Seria e é possível!! Essa abordagem é conhecida como **Representation Learning**, o modelo deve ser capaz não só resolver a tarefa (exemplo: tradução), mas também de encontrar representações úteis para os dados de modo a resolver essa tarefa. Afinal, a gente não sabe explicar como resolve o problema, devemos ser ruins também em manipular os dados para tal, né?\n",
    "\n",
    "**Deep Learning** é um subcampo de ML que utiliza representation learning definindo representações mais complexas a partir de outras representações mais simples.\n",
    "\n",
    "<img src='images/representation_learning_dl.png' width=1000>\n",
    "\n",
    "O nome **Deep** vem das múltiplas representações (**camadas**) que utilizamos para construir os modelos. Então, de maneira geral, quando pensamos em DL pensamos em um modelo com váááárias camadas, e se pararmos pra pensar também precisamos de muuuuitos dados. Métodos de DL tem fome de dados. Quer boas representações? Me dê vários exemplos de dados; Quer que eu saiba traduzir bem? Me dê vários exemplos de traduções já feitas que eu consigo extrair os padrões e aprender umas representações bem bacanas e ser um excelente tradutor!\n"
   ]
  },
  {
   "cell_type": "markdown",
   "metadata": {},
   "source": [
    "#  Por que tão popular?"
   ]
  },
  {
   "attachments": {},
   "cell_type": "markdown",
   "metadata": {},
   "source": [
    "O termo Deep Learning começou a se popularizar em 2010~2012 quando técnicas de DL foram aplicadas com sucesso para a tarefa de classificação de imagens num desafio chamado \"Imaginet Challenge\" que consiste em classificar corretamente imagens em 1000 diferentes categorias.\n",
    "\n",
    "![](https://image.slidesharecdn.com/dlcvd2l4imagenet-160802094728/95/deep-learning-for-computer-vision-imagenet-challenge-upc-2016-4-638.jpg?cb=1470131387)\n",
    "\n",
    "![](https://www.researchgate.net/profile/Gustav_Von_Zitzewitz/publication/324476862/figure/fig7/AS:614545865310213@1523530560584/Winner-results-of-the-ImageNet-large-scale-visual-recognition-challenge-LSVRC-of-the.png)\n",
    "\n",
    "Desde então modelos de DL são a melhor coisa para essa tarefa e só ficam melhor. Na imagem acima é mostrado o erro do vencedor do desafio em cada ano. Sendo as barras azuis modelos de DL.\n",
    "\n",
    "Mas... redes neurais (coração do DL) existem desde 1930, por que só agora?\n",
    "\n",
    "2 grandes fatores contribuiram para o sucesso de métodos de DL e sua popularização:\n",
    "\n",
    "1. Muitos dados disponívels\n",
    "2. Hardware disponível \n",
    "\n",
    "Com esses fatores DL se tornou imparável se tornando estado na arte não só na tarefa de classificação de imagens mas numa esmagadora gama de tarefas e áreas.\n",
    "\n",
    "Hoje em dia todo mundo que é legal ta usando Deep Learning. A área de DL está em constante evolução, cada dia que passa novas técnicas surgem e mais resultados surpreendentes são alcançados."
   ]
  },
  {
   "cell_type": "markdown",
   "metadata": {},
   "source": [
    "## Por que eu deveria me importar?"
   ]
  },
  {
   "cell_type": "markdown",
   "metadata": {},
   "source": [
    "\n",
    "1. [ML e DL estão mudando como se constrói e se pensa sobre software!](https://medium.com/@karpathy/software-2-0-a64152b37c35)\n",
    "2. [DL é muito legal, se você entender de DL você se torna mais legal e interessante por tabela](https://www.youtube.com/watch?v=PCBTZh41Ris)\n",
    "\n",
    "Mas sério, a razão 1. é realmente muito relevante, se tiver tempo leia esse blog e entenda como DL está mudando como construimos e construiremos software."
   ]
  },
  {
   "cell_type": "markdown",
   "metadata": {},
   "source": [
    "## Referências\n",
    "\n",
    "Este conteúdo é baseado nos seguintes materiais:\n",
    "\n",
    "* [Machine Learning in Formal Verification, FMCAD 2016 tutorial - Manish Pandey](http://www.cs.utexas.edu/users/hunt/FMCAD/FMCAD16/slides/tutorial1.pdf?fbclid=IwAR0RnrpaJzULlFkpAXsIVMDmK7EI490Bg65cnNgYJNO_RweyyiZQ7twV9PY)\n",
    "* [Deep Learning Book, capítulo 1 - GoodFellow et Al.](https://www.deeplearningbook.org/contents/intro.html)\n",
    "* [Deep Learning 101 - Part 1: History and Background - Andrew L. Beam](https://beamandrew.github.io/deeplearning/2017/02/23/deep_learning_101_part1.html)"
   ]
  }
 ],
 "metadata": {
  "kernelspec": {
   "display_name": "Python 3",
   "language": "python",
   "name": "python3"
  },
  "language_info": {
   "codemirror_mode": {
    "name": "ipython",
    "version": 3
   },
   "file_extension": ".py",
   "mimetype": "text/x-python",
   "name": "python",
   "nbconvert_exporter": "python",
   "pygments_lexer": "ipython3",
   "version": "3.6.7"
  }
 },
 "nbformat": 4,
 "nbformat_minor": 2
}
