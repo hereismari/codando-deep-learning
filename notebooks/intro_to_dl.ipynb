{
 "cells": [
  {
   "cell_type": "markdown",
   "metadata": {},
   "source": [
    "# 0. Introdução a Deep Learning"
   ]
  },
  {
   "cell_type": "markdown",
   "metadata": {},
   "source": [
    "Deep Learning têm recebido [bastante atenção nos últimos anos](https://trends.google.com/trends/explore?date=all&q=Deep%20Learning), tanto no campo da computação como na mídia em geral.\n",
    "\n",
    "Técnicas de Deep Learning se tornaram o estado da arte em várias tarefas de Inteligência Artificial e mudado vários grandes campos da área, na visão computacional (classificação de imagens, segmentação de imagens), NLP (tradução, classificação de textos), reinforcement learning (agentes capazes de jogar jogos complexos como Go, Atari e DOTA).\n",
    "\n",
    "Além de impactar várias áreas da computação, técnicas de Deep Learning estão mudando o campo da Medicina, Ciência e Matemática. Artigos de Deep Learning são rotinamente publicados em grandes revistas científicas como: Nature, Science e JAMA.\n",
    "\n",
    "Nesta seção iremos discutir o que é Deep Learning, por que este grande sucesso nesse momento? E por que você como programador(a) deveria se importar!"
   ]
  },
  {
   "cell_type": "markdown",
   "metadata": {},
   "source": [
    "## Inteligência Artificial $\\supseteq$ Machine Learning $\\supseteq$ Deep Learning"
   ]
  },
  {
   "cell_type": "markdown",
   "metadata": {},
   "source": [
    "\n",
    "<img align='center' src='images/IA_ML_DL.png' width=500>"
   ]
  },
  {
   "cell_type": "markdown",
   "metadata": {},
   "source": [
    "**Como IA (Inteligência Artificial), ML (Machine Learning) e DL (Deep Learning) se relacionam?** Esses termos são utilizados na mídia (e muitas vezes na área) quase como sinônimos.\n",
    "\n",
    "**Inteligência Artificial** se refere ao campo da ciência da computação que se preocupa com o estudo de máquinas para realização de atividades ditas inteligentes. Esse é um grande campo de diferentes \"escolas\"/\"ramificações\". Inteligência é um conceito muito amplo e ainda bastante subjetivo.\n",
    "\n",
    "Uma grande pergunta é **como** construir máquinas inteligências?\n",
    "\n",
    "**Machine Learning** se refere ao subcampo da IA que busca extrair estrutura e inteligência dos dados (experiência).\n",
    "\n",
    "> *\"Um computador aprende a partir da experiência **E** com respeito a alguma tarefa **T** e alguma medida de performance **P**, se sua performance em **T** melhora com sua experiência **E**\" - [Tom Mitchell (1998)](http://www.cs.cmu.edu/~tom/)\n",
    "\n",
    "<img align='center' src='images/ml_definition.png' width=500>\n",
    "\n",
    "A ideia de ML é que para realizar uma tarefa, nós (programadoras(es)) não implementemos as regras que definem as saídas para uma dada entrada. Imagine que queremos traduzir **qualquer** frase do inglês para português, quais regras iremos utilizar? Listar todas as traduções e regras possíveis é não trivial.\n",
    "\n",
    "> *“A complexidade de programas de computadores convencionasis está no código (programas que as pessoas escrevem). Em Machine Learning, algoritmos são em princípio simples e a comlexidade (estrutura) está nos dados. Existe uma maneira de aprender essa estrutura automaticamente? Esse é o princípio fundamental de Machine Learning.”- [Andrew Ng](https://en.wikipedia.org/wiki/Andrew_Ng)*\n",
    "\n",
    "Ao invés de listar as regras e funcionamento do sistema podemos utilizar um modelo de Machine Learning, e mostrar para o modelo vários exemplos de frases em inglês traduzidas para português. Padrões são extraídos dos dados e utilizados para que o **modelo** defina como tomar suas próprias decisões de modo a otimizar a tradução.\n",
    "\n",
    "Modelos de Machine Learning extraem padrões dos dados, e claro são **extramamente** dependentes da qualidade dos dados para sucesso em suas tarefas, mas também depende de **como os dados são representados**. Por exemplo, como um modelo de ML deve representar uma frase?\n",
    "\n",
    "<img src='https://media.giphy.com/media/1X7lCRp8iE0yrdZvwd/giphy.gif' width=400>\n",
    "\n",
    "Seria muito bom não ter que se preocupar com a representação dos dados... Tipo, dar para o modelo uma representação bastante simplificada e ele que se vire pra encontrar algum sentindo nesse dado **bruto**...\n",
    "\n",
    "Seria e é possível!! Essa abordagem é conhecida como **Representation Learning**, o modelo deve ser capaz não só resolver a tarefa (exemplo: tradução), mas também de encontrar representações úteis para os dados de movo a resolver essa tarefa. Afinal a gente não sabe explicar como resolve o problema, devemos ser ruins também em manipular os dados para tal, né?\n",
    "\n",
    "**Deep Learning** é um subcampo de ML que utiliza representation learning definindo representações que são definidas a partir de outras representações mais simples.\n",
    "\n",
    "<img src='images/representation_learning_dl.png' width=1000>\n",
    "\n",
    "O nome **Deep** vem das múltiplas representações (**camadas**) que utilizamos para construir os modelos. Então em geral quando pensamos em DL pensamos em um modelo com váááárias camadas, e se pararmos pra pensar também precisamos de muuuuitos dados. Métodos de DL tem fome de dados: quer boas representações? Me dê vários exemplos de dados. Quer que eu saiba traduzir bem? Me dê vários exemplos de traduções já feitas que eu consigo extrair os padrões e aprender umas representações bem legaizinhas pra você.\n"
   ]
  },
  {
   "cell_type": "markdown",
   "metadata": {},
   "source": [
    "#  Por que tão popular?"
   ]
  },
  {
   "cell_type": "markdown",
   "metadata": {},
   "source": []
  },
  {
   "cell_type": "markdown",
   "metadata": {},
   "source": [
    "## Por que eu deveria me importar?"
   ]
  },
  {
   "cell_type": "markdown",
   "metadata": {},
   "source": [
    "1. [ML e DL estão mudando como se constrói e se pensa sobre software!](https://medium.com/@karpathy/software-2-0-a64152b37c35)\n",
    "2. [Deep Learning é muuuuito legal](https://www.youtube.com/watch?v=hPKJBXkyTKM)"
   ]
  },
  {
   "cell_type": "markdown",
   "metadata": {},
   "source": [
    "## Referências\n",
    "\n",
    "Este conteúdo é baseado nos seguintes materiais:\n",
    "\n",
    "* [Machine Learning in Formal Verification, FMCAD 2016 tutorial - Manish Pandey](http://www.cs.utexas.edu/users/hunt/FMCAD/FMCAD16/slides/tutorial1.pdf?fbclid=IwAR0RnrpaJzULlFkpAXsIVMDmK7EI490Bg65cnNgYJNO_RweyyiZQ7twV9PY)\n",
    "* [Deep Learning Book, capítulo 1 - GoodFellow et Al.](https://www.deeplearningbook.org/contents/intro.html)\n",
    "* [Deep Learning 101 - Part 1: History and Background - Andrew L. Beam](https://beamandrew.github.io/deeplearning/2017/02/23/deep_learning_101_part1.html)"
   ]
  }
 ],
 "metadata": {
  "kernelspec": {
   "display_name": "Python 3",
   "language": "python",
   "name": "python3"
  },
  "language_info": {
   "codemirror_mode": {
    "name": "ipython",
    "version": 3
   },
   "file_extension": ".py",
   "mimetype": "text/x-python",
   "name": "python",
   "nbconvert_exporter": "python",
   "pygments_lexer": "ipython3",
   "version": "3.6.7"
  }
 },
 "nbformat": 4,
 "nbformat_minor": 2
}
