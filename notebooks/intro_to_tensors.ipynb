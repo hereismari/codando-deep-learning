{
 "cells": [
  {
   "cell_type": "code",
   "execution_count": 1,
   "metadata": {},
   "outputs": [],
   "source": [
    "import numpy as np"
   ]
  },
  {
   "cell_type": "markdown",
   "metadata": {},
   "source": [
    "## Introdução à Tensores"
   ]
  },
  {
   "cell_type": "markdown",
   "metadata": {},
   "source": [
    "Falando em Deep Learning, essas entradas são normalmente **tensores**, isto é, vetores de diferentes dimensões. De maneira matemática, você pode pensar em tensores da seguinte forma:"
   ]
  },
  {
   "cell_type": "markdown",
   "metadata": {},
   "source": [
    "![](https://www.kdnuggets.com/wp-content/uploads/scalar-vector-matrix-tensor.jpg)\n",
    "Imagem de: https://www.kdnuggets.com/2018/05/wtf-tensor.html"
   ]
  },
  {
   "cell_type": "markdown",
   "metadata": {},
   "source": [
    "Já os matemáticos que gostam de cachorros, preferem pensar em tensores da seguinte forma:\n",
    "\n",
    "![](https://pbs.twimg.com/media/CvUaME-VIAACHLb.jpg)\n",
    "Imagem de: https://pbs.twimg.com/media/CvUaME-VIAACHLb.jpg"
   ]
  },
  {
   "cell_type": "markdown",
   "metadata": {},
   "source": [
    "Na prática, um **scalar** é apenas um valor (0-dimensional); um **vetor** é um array de scalares (uni-dimensional); uma **matriz** é um array de vetores (bi-dimensional); e um **tensor** é qualquer vetor com N-dimensões (por exemplo, um cubo é um tensor de 3 dimensões). Vale salientar que, tecnicamente, o conceito de tensor engloba todos eles. Porém, na prática, chamamos de tensores os vetores com 3 ou mais dimensões. Veja [**esse vídeo**](https://www.youtube.com/watch?v=f5liqUk0ZTw) para mais detalhes.\n",
    "\n",
    "Em termos de código, tais estruturas são representadas da seguinte forma:"
   ]
  },
  {
   "cell_type": "code",
   "execution_count": 2,
   "metadata": {},
   "outputs": [
    {
     "name": "stdout",
     "output_type": "stream",
     "text": [
      "3\n"
     ]
    }
   ],
   "source": [
    "scalar = 3\n",
    "print(scalar)"
   ]
  },
  {
   "cell_type": "code",
   "execution_count": 3,
   "metadata": {},
   "outputs": [
    {
     "name": "stdout",
     "output_type": "stream",
     "text": [
      "[1 2 3]\n"
     ]
    }
   ],
   "source": [
    "vetor = np.array([1, 2, 3])\n",
    "print(vetor)"
   ]
  },
  {
   "cell_type": "code",
   "execution_count": 4,
   "metadata": {},
   "outputs": [
    {
     "name": "stdout",
     "output_type": "stream",
     "text": [
      "[[1 2 3]\n",
      " [4 5 6]\n",
      " [7 8 9]]\n"
     ]
    }
   ],
   "source": [
    "matriz = np.array([[1, 2, 3], [4, 5, 6], [7, 8, 9]])\n",
    "print(matriz)"
   ]
  },
  {
   "cell_type": "code",
   "execution_count": 5,
   "metadata": {},
   "outputs": [
    {
     "name": "stdout",
     "output_type": "stream",
     "text": [
      "[[[ 1  2]\n",
      "  [ 3  4]]\n",
      "\n",
      " [[ 5  6]\n",
      "  [ 7  8]]\n",
      "\n",
      " [[ 9 10]\n",
      "  [11 12]]]\n"
     ]
    }
   ],
   "source": [
    "tensor = np.array([[[1, 2], [3, 4]], [[5, 6], [7, 8]], [[9, 10], [11, 12]]])\n",
    "print(tensor)"
   ]
  },
  {
   "cell_type": "markdown",
   "metadata": {},
   "source": [
    "Ainda pensando dessa forma, poderíamos imaginar um tensor 4-dimensional como um **array de cubos**; um tensor 5-dimensional seria uma **matriz de cubos**; um tensor 6-dimensional seria um **cubo de cubos**, e assim por diante...\n",
    "\n",
    "<img align='center' src='https://media3.giphy.com/media/xT0xeJpnrWC4XWblEk/giphy.gif'>"
   ]
  },
  {
   "cell_type": "markdown",
   "metadata": {},
   "source": [
    "Depois de ler isso tudo sobre tensores, você deve estar pensando: \"Beleza, mas... para que redes neurais usam esses tais tensores?\". Resposta: **para representar as entradas**.\n",
    "\n",
    "- nas **Redes Neurais Artificiais (*Artificial Neural Networks*, ANN)**, as entradas vão ser representadas por tensores bi-dimensionais (matrizes). Em geral, **cada linha dessa matriz vai representar uma amostra** do seu banco, enquanto **cada coluna representa um atributo** (também chamada de *feature*). Por exemplo, no seguinte banco de dados:\n",
    "\n",
    "<img align='center' src='https://cdn-images-1.medium.com/max/1600/1*Qt_pYlwBeHtTewnEdksYKQ.png' width=400>\n",
    "\n",
    "nós temos **5 amostras** (5 linhas) e **4 atributos** (```sepal length```, ```sepal width```, ```petal length``` e ```petal width```) - a coluna ```target``` nesse banco representa a classe de cada amostra.\n",
    "\n",
    "- nas **Redes Neurais Convolucionais** (*Convolutional Neural Networks, CNN*), as entradas vão ser agora representadas por tensores 4-dimensionais. Em geral, a maioria dos frameworks assumem que esses tensores estão no formato ```NxHxWxC```, onde:\n",
    "    - ```N```: representa a quantidade de imagens no seu banco\n",
    "    - ```H```: a altura de cada imagem\n",
    "    - ```W```: a largura de cada imagem\n",
    "    - ```C```: a quantidade de canais de cada imagem. Imagens em níveis de cinza têm apenas 1 canal, enquanto imagens coloridas possuem 3 canais - vermelho (R), verde (G) e azul (B).\n",
    "\n",
    "Alguns frameworks também aceitam tensores no formato ```NxCxHxW```, ou seja, os canais da imagem vêm logo após a quantidade de imagens."
   ]
  },
  {
   "cell_type": "code",
   "execution_count": null,
   "metadata": {},
   "outputs": [],
   "source": []
  }
 ],
 "metadata": {
  "kernelspec": {
   "display_name": "Python 3",
   "language": "python",
   "name": "python3"
  },
  "language_info": {
   "codemirror_mode": {
    "name": "ipython",
    "version": 3
   },
   "file_extension": ".py",
   "mimetype": "text/x-python",
   "name": "python",
   "nbconvert_exporter": "python",
   "pygments_lexer": "ipython3",
   "version": "3.6.7"
  }
 },
 "nbformat": 4,
 "nbformat_minor": 2
}
