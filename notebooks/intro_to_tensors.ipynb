{
 "cells": [
  {
   "cell_type": "markdown",
   "metadata": {},
   "source": [
    "#### Dependências"
   ]
  },
  {
   "cell_type": "code",
   "execution_count": null,
   "metadata": {},
   "outputs": [],
   "source": []
  },
  {
   "cell_type": "markdown",
   "metadata": {},
   "source": [
    "## Introdução à Tensores"
   ]
  },
  {
   "cell_type": "markdown",
   "metadata": {},
   "source": [
    "Falando em Deep Learning, essas entradas são normalmente **tensores**, isto é, vetores de diferentes dimensões. De maneira matemática, você pode pensar em tensores da seguinte forma:"
   ]
  },
  {
   "cell_type": "markdown",
   "metadata": {},
   "source": [
    "![](https://www.kdnuggets.com/wp-content/uploads/scalar-vector-matrix-tensor.jpg)\n",
    "Imagem de: https://www.kdnuggets.com/2018/05/wtf-tensor.html"
   ]
  },
  {
   "cell_type": "markdown",
   "metadata": {},
   "source": [
    "Já os matemáticos que gostam de cachorros, preferem pensar em tensores da seguinte forma:\n",
    "\n",
    "![](https://pbs.twimg.com/media/CvUaME-VIAACHLb.jpg)\n",
    "Imagem de: https://pbs.twimg.com/media/CvUaME-VIAACHLb.jpg"
   ]
  },
  {
   "cell_type": "markdown",
   "metadata": {},
   "source": [
    "Na prática, um **scalar** é apenas um valor (0-dimensional); um **vetor** é um array de scalares (uni-dimensional); uma **matriz** é um array de vetores (bi-dimensional); e um **tensor** é qualquer vetor com N-dimensões (por exemplo, um cubo é um tensor de 3 dimensões). Vale salientar que, tecnicamente, o conceito de tensor engloba todos eles. Porém, na prática, chamamos de tensores os vetores com 3 ou mais dimensões. Veja [**esse vídeo**](https://www.youtube.com/watch?v=f5liqUk0ZTw) para mais detalhes.\n",
    "\n",
    "Ainda pensando dessa forma, poderíamos imaginar um tensor 4-dimensional como um **array de cubos**; um tensor 5-dimensional seria uma **matriz de cubos**; um tensor 6-dimensional seria um **cubo de cubos**, e assim por diante...\n",
    "\n",
    "<img align='center' src='https://media3.giphy.com/media/xT0xeJpnrWC4XWblEk/giphy.gif'>"
   ]
  },
  {
   "cell_type": "code",
   "execution_count": null,
   "metadata": {},
   "outputs": [],
   "source": []
  },
  {
   "cell_type": "markdown",
   "metadata": {},
   "source": [
    "## Referências\n",
    "\n",
    "Este conteúdo é baseado nos seguintes materiais:\n"
   ]
  }
 ],
 "metadata": {
  "kernelspec": {
   "display_name": "Python 3",
   "language": "python",
   "name": "python3"
  },
  "language_info": {
   "codemirror_mode": {
    "name": "ipython",
    "version": 3
   },
   "file_extension": ".py",
   "mimetype": "text/x-python",
   "name": "python",
   "nbconvert_exporter": "python",
   "pygments_lexer": "ipython3",
   "version": "3.6.6"
  }
 },
 "nbformat": 4,
 "nbformat_minor": 2
}
