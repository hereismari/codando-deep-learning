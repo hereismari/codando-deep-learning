{
 "cells": [
  {
   "cell_type": "markdown",
   "metadata": {},
   "source": [
    "# 1.1 Introdução a Redes Neurais: o que são?"
   ]
  },
  {
   "cell_type": "markdown",
   "metadata": {},
   "source": [
    "## Funções"
   ]
  },
  {
   "cell_type": "markdown",
   "metadata": {},
   "source": [
    "Redes neurais podem ser vistas de maneira bastante simplificada como **funções matemáticas**. Abstraindo o conceito formal de funções e pensando em computação: uma função recebe entradas, realiza uma computação e produz uma saída.\n",
    "\n",
    "```\n",
    "Entradas: x ----> Computação: f ------> Saídas: f(x)\n",
    "```\n",
    "\n",
    "**Matemática**\n",
    "\n",
    "$f(x) = x \\times 2 + 3$\n",
    " \n",
    "\n",
    "**Python**\n",
    "\n",
    "```python\n",
    "def f(x):\n",
    "    return x * 2 + 3\n",
    "```\n"
   ]
  },
  {
   "cell_type": "markdown",
   "metadata": {},
   "source": [
    "Assim, uma simples definição de redes neurais é:\n",
    "\n",
    "> \"Redes Neurais são *aproximadores de funções*\"\n",
    "\n",
    "Similar à funções, as redes neurais possuem entradas e saídas. As entradas são representadas por amostras dos seus dados. As saídas, por sua vez, depende de que tarefa estamos desempenhando."
   ]
  },
  {
   "cell_type": "markdown",
   "metadata": {},
   "source": [
    "## Em busca da função perfeita\n",
    "\n",
    "\n",
    "### Exemplo: [base dados Iris](https://mari-linhares.github.io/codando-deep-learning/notebooks/glossario.html#iris)\n",
    "\n",
    "Digamos que para um exemplo da base de dados queremos determinar qual a espécie dessa planta.\n",
    "\n",
    "**Entradas**\n",
    "\n",
    "A base de dados iris tem 4 **[atributos](https://mari-linhares.github.io/codando-deep-learning/notebooks/glossario.html#atributos)** de uma planta que iremos usar como entrada.\n",
    "\n",
    "**Saídas**\n",
    "\n",
    "Neste caso a saída que nos interessa é a espécie da planta. Então digamos que a saída é um número que indica qual a espécie:\n",
    "\n",
    "0 = Iris Setosa , 1 = Iris Versicolour, 2 = Iris Virginica\n",
    "\n",
    "### Obtendo a base de dados"
   ]
  },
  {
   "cell_type": "code",
   "execution_count": 19,
   "metadata": {},
   "outputs": [
    {
     "name": "stdout",
     "output_type": "stream",
     "text": [
      "('Numero de exemplos na base:', 150)\n",
      "('Atributos da primeira planta:', array([-0.555556,  0.25    , -0.864407, -0.916667]))\n",
      "('Especie da primeira planta:', 1)\n"
     ]
    }
   ],
   "source": [
    "# Ignorar warnings\n",
    "import warnings\n",
    "warnings.filterwarnings('ignore')\n",
    "\n",
    "# Trabalhar com os dados\n",
    "from sklearn.datasets import fetch_mldata\n",
    "\n",
    "# Atributos: iris_dataset.data\n",
    "# Espécie: iris_dataset.target\n",
    "iris_dataset = fetch_mldata('iris')\n",
    "\n",
    "print('Numero de exemplos na base:', len(iris_dataset.data))\n",
    "print('Atributos da primeira planta:', iris_dataset.data[0])\n",
    "print('Especie da primeira planta:', iris_dataset.target[0])"
   ]
  },
  {
   "cell_type": "markdown",
   "metadata": {},
   "source": [
    "### Vamos codar uma função que resolve esse problema!\n",
    "\n",
    "Uma função para resolver esse problema precisa receber 4 parâmetros (cada um dos atributos da planta) e produzir uma saída (espécie da planta).\n"
   ]
  },
  {
   "cell_type": "code",
   "execution_count": 21,
   "metadata": {},
   "outputs": [
    {
     "name": "stdout",
     "output_type": "stream",
     "text": [
      "(0, 1)\n",
      "(0, 1)\n",
      "(0, 3)\n"
     ]
    }
   ],
   "source": [
    "def f(x1, x2, x3, x4):\n",
    "    # Não importa os atributos pra mim a resposta é sempre: Setosa!!!!\n",
    "    return 0\n",
    "\n",
    "print(f(*iris_dataset.data[0]), iris_dataset.target[0])\n",
    "print(f(*iris_dataset.data[1]), iris_dataset.target[1])\n",
    "print(f(*iris_dataset.data[-1]), iris_dataset.target[-1])"
   ]
  },
  {
   "cell_type": "markdown",
   "metadata": {},
   "source": [
    "A função acima é válida para este problema (4 entradas, 1 saída), o problema dela é que... Ela não ta ajudando a gente no nosso problema em nada! Ela simplesmente ignora os atributos e nos diz que qualquer exemplo é da espécie Setosa.\n",
    "\n",
    "Como podemos avaliar o quão boa é essa função? Uma métrica possível é [acurácia](https://mari-linhares.github.io/codando-deep-learning/notebooks/glossario.html#acuracia)"
   ]
  },
  {
   "cell_type": "code",
   "execution_count": null,
   "metadata": {},
   "outputs": [],
   "source": []
  },
  {
   "cell_type": "code",
   "execution_count": 4,
   "metadata": {},
   "outputs": [
    {
     "data": {
      "text/plain": [
       "array([[-5.55556e-01,  2.50000e-01, -8.64407e-01, -9.16667e-01],\n",
       "       [-6.66667e-01, -1.66667e-01, -8.64407e-01, -9.16667e-01],\n",
       "       [-7.77778e-01,  0.00000e+00, -8.98305e-01, -9.16667e-01],\n",
       "       [-8.33333e-01, -8.33334e-02, -8.30508e-01, -9.16667e-01],\n",
       "       [-6.11111e-01,  3.33333e-01, -8.64407e-01, -9.16667e-01],\n",
       "       [-3.88889e-01,  5.83333e-01, -7.62712e-01, -7.50000e-01],\n",
       "       [-8.33333e-01,  1.66667e-01, -8.64407e-01, -8.33333e-01],\n",
       "       [-6.11111e-01,  1.66667e-01, -8.30508e-01, -9.16667e-01],\n",
       "       [-9.44444e-01, -2.50000e-01, -8.64407e-01, -9.16667e-01],\n",
       "       [-6.66667e-01, -8.33334e-02, -8.30508e-01, -1.00000e+00],\n",
       "       [-3.88889e-01,  4.16667e-01, -8.30508e-01, -9.16667e-01],\n",
       "       [-7.22222e-01,  1.66667e-01, -7.96610e-01, -9.16667e-01],\n",
       "       [-7.22222e-01, -1.66667e-01, -8.64407e-01, -1.00000e+00],\n",
       "       [-1.00000e+00, -1.66667e-01, -9.66102e-01, -1.00000e+00],\n",
       "       [-1.66667e-01,  6.66667e-01, -9.32203e-01, -9.16667e-01],\n",
       "       [-2.22222e-01,  1.00000e+00, -8.30508e-01, -7.50000e-01],\n",
       "       [-3.88889e-01,  5.83333e-01, -8.98305e-01, -7.50000e-01],\n",
       "       [-5.55556e-01,  2.50000e-01, -8.64407e-01, -8.33333e-01],\n",
       "       [-2.22222e-01,  5.00000e-01, -7.62712e-01, -8.33333e-01],\n",
       "       [-5.55556e-01,  5.00000e-01, -8.30508e-01, -8.33333e-01],\n",
       "       [-3.88889e-01,  1.66667e-01, -7.62712e-01, -9.16667e-01],\n",
       "       [-5.55556e-01,  4.16667e-01, -8.30508e-01, -7.50000e-01],\n",
       "       [-8.33333e-01,  3.33333e-01, -1.00000e+00, -9.16667e-01],\n",
       "       [-5.55556e-01,  8.33333e-02, -7.62712e-01, -6.66667e-01],\n",
       "       [-7.22222e-01,  1.66667e-01, -6.94915e-01, -9.16667e-01],\n",
       "       [-6.11111e-01, -1.66667e-01, -7.96610e-01, -9.16667e-01],\n",
       "       [-6.11111e-01,  1.66667e-01, -7.96610e-01, -7.50000e-01],\n",
       "       [-5.00000e-01,  2.50000e-01, -8.30508e-01, -9.16667e-01],\n",
       "       [-5.00000e-01,  1.66667e-01, -8.64407e-01, -9.16667e-01],\n",
       "       [-7.77778e-01,  0.00000e+00, -7.96610e-01, -9.16667e-01],\n",
       "       [-7.22222e-01, -8.33334e-02, -7.96610e-01, -9.16667e-01],\n",
       "       [-3.88889e-01,  1.66667e-01, -8.30508e-01, -7.50000e-01],\n",
       "       [-5.00000e-01,  7.50000e-01, -8.30508e-01, -1.00000e+00],\n",
       "       [-3.33333e-01,  8.33333e-01, -8.64407e-01, -9.16667e-01],\n",
       "       [-6.66667e-01, -8.33334e-02, -8.30508e-01, -1.00000e+00],\n",
       "       [-6.11111e-01,  0.00000e+00, -9.32203e-01, -9.16667e-01],\n",
       "       [-3.33333e-01,  2.50000e-01, -8.98305e-01, -9.16667e-01],\n",
       "       [-6.66667e-01, -8.33334e-02, -8.30508e-01, -1.00000e+00],\n",
       "       [-9.44444e-01, -1.66667e-01, -8.98305e-01, -9.16667e-01],\n",
       "       [-5.55556e-01,  1.66667e-01, -8.30508e-01, -9.16667e-01],\n",
       "       [-6.11111e-01,  2.50000e-01, -8.98305e-01, -8.33333e-01],\n",
       "       [-8.88889e-01, -7.50000e-01, -8.98305e-01, -8.33333e-01],\n",
       "       [-9.44444e-01,  0.00000e+00, -8.98305e-01, -9.16667e-01],\n",
       "       [-6.11111e-01,  2.50000e-01, -7.96610e-01, -5.83333e-01],\n",
       "       [-5.55556e-01,  5.00000e-01, -6.94915e-01, -7.50000e-01],\n",
       "       [-7.22222e-01, -1.66667e-01, -8.64407e-01, -8.33333e-01],\n",
       "       [-5.55556e-01,  5.00000e-01, -7.96610e-01, -9.16667e-01],\n",
       "       [-8.33333e-01,  0.00000e+00, -8.64407e-01, -9.16667e-01],\n",
       "       [-4.44444e-01,  4.16667e-01, -8.30508e-01, -9.16667e-01],\n",
       "       [-6.11111e-01,  8.33333e-02, -8.64407e-01, -9.16667e-01],\n",
       "       [ 5.00000e-01,  0.00000e+00,  2.54237e-01,  8.33333e-02],\n",
       "       [ 1.66667e-01,  0.00000e+00,  1.86441e-01,  1.66667e-01],\n",
       "       [ 4.44444e-01, -8.33334e-02,  3.22034e-01,  1.66667e-01],\n",
       "       [-3.33333e-01, -7.50000e-01,  1.69491e-02, -4.03573e-08],\n",
       "       [ 2.22222e-01, -3.33333e-01,  2.20339e-01,  1.66667e-01],\n",
       "       [-2.22222e-01, -3.33333e-01,  1.86441e-01, -4.03573e-08],\n",
       "       [ 1.11111e-01,  8.33333e-02,  2.54237e-01,  2.50000e-01],\n",
       "       [-6.66667e-01, -6.66667e-01, -2.20339e-01, -2.50000e-01],\n",
       "       [ 2.77778e-01, -2.50000e-01,  2.20339e-01, -4.03573e-08],\n",
       "       [-5.00000e-01, -4.16667e-01, -1.69491e-02,  8.33333e-02],\n",
       "       [-6.11111e-01, -1.00000e+00, -1.52542e-01, -2.50000e-01],\n",
       "       [-1.11111e-01, -1.66667e-01,  8.47457e-02,  1.66667e-01],\n",
       "       [-5.55556e-02, -8.33333e-01,  1.69491e-02, -2.50000e-01],\n",
       "       [-1.32455e-07, -2.50000e-01,  2.54237e-01,  8.33333e-02],\n",
       "       [-2.77778e-01, -2.50000e-01, -1.18644e-01, -4.03573e-08],\n",
       "       [ 3.33333e-01, -8.33334e-02,  1.52542e-01,  8.33333e-02],\n",
       "       [-2.77778e-01, -1.66667e-01,  1.86441e-01,  1.66667e-01],\n",
       "       [-1.66667e-01, -4.16667e-01,  5.08474e-02, -2.50000e-01],\n",
       "       [ 5.55554e-02, -8.33333e-01,  1.86441e-01,  1.66667e-01],\n",
       "       [-2.77778e-01, -5.83333e-01, -1.69491e-02, -1.66667e-01],\n",
       "       [-1.11111e-01,  0.00000e+00,  2.88136e-01,  4.16667e-01],\n",
       "       [-1.32455e-07, -3.33333e-01,  1.69491e-02, -4.03573e-08],\n",
       "       [ 1.11111e-01, -5.83333e-01,  3.22034e-01,  1.66667e-01],\n",
       "       [-1.32455e-07, -3.33333e-01,  2.54237e-01, -8.33333e-02],\n",
       "       [ 1.66667e-01, -2.50000e-01,  1.18644e-01, -4.03573e-08],\n",
       "       [ 2.77778e-01, -1.66667e-01,  1.52542e-01,  8.33333e-02],\n",
       "       [ 3.88889e-01, -3.33333e-01,  2.88136e-01,  8.33333e-02],\n",
       "       [ 3.33333e-01, -1.66667e-01,  3.55932e-01,  3.33333e-01],\n",
       "       [-5.55556e-02, -2.50000e-01,  1.86441e-01,  1.66667e-01],\n",
       "       [-2.22222e-01, -5.00000e-01, -1.52542e-01, -2.50000e-01],\n",
       "       [-3.33333e-01, -6.66667e-01, -5.08475e-02, -1.66667e-01],\n",
       "       [-3.33333e-01, -6.66667e-01, -8.47458e-02, -2.50000e-01],\n",
       "       [-1.66667e-01, -4.16667e-01, -1.69491e-02, -8.33333e-02],\n",
       "       [-5.55556e-02, -4.16667e-01,  3.89830e-01,  2.50000e-01],\n",
       "       [-3.88889e-01, -1.66667e-01,  1.86441e-01,  1.66667e-01],\n",
       "       [-5.55556e-02,  1.66667e-01,  1.86441e-01,  2.50000e-01],\n",
       "       [ 3.33333e-01, -8.33334e-02,  2.54237e-01,  1.66667e-01],\n",
       "       [ 1.11111e-01, -7.50000e-01,  1.52542e-01, -4.03573e-08],\n",
       "       [-2.77778e-01, -1.66667e-01,  5.08474e-02, -4.03573e-08],\n",
       "       [-3.33333e-01, -5.83333e-01,  1.69491e-02, -4.03573e-08],\n",
       "       [-3.33333e-01, -5.00000e-01,  1.52542e-01, -8.33333e-02],\n",
       "       [-1.32455e-07, -1.66667e-01,  2.20339e-01,  8.33333e-02],\n",
       "       [-1.66667e-01, -5.00000e-01,  1.69491e-02, -8.33333e-02],\n",
       "       [-6.11111e-01, -7.50000e-01, -2.20339e-01, -2.50000e-01],\n",
       "       [-2.77778e-01, -4.16667e-01,  8.47457e-02, -4.03573e-08],\n",
       "       [-2.22222e-01, -1.66667e-01,  8.47457e-02, -8.33333e-02],\n",
       "       [-2.22222e-01, -2.50000e-01,  8.47457e-02, -4.03573e-08],\n",
       "       [ 5.55554e-02, -2.50000e-01,  1.18644e-01, -4.03573e-08],\n",
       "       [-5.55556e-01, -5.83333e-01, -3.22034e-01, -1.66667e-01],\n",
       "       [-2.22222e-01, -3.33333e-01,  5.08474e-02, -4.03573e-08],\n",
       "       [ 1.11111e-01,  8.33333e-02,  6.94915e-01,  1.00000e+00],\n",
       "       [-1.66667e-01, -4.16667e-01,  3.89830e-01,  5.00000e-01],\n",
       "       [ 5.55555e-01, -1.66667e-01,  6.61017e-01,  6.66667e-01],\n",
       "       [ 1.11111e-01, -2.50000e-01,  5.59322e-01,  4.16667e-01],\n",
       "       [ 2.22222e-01, -1.66667e-01,  6.27119e-01,  7.50000e-01],\n",
       "       [ 8.33333e-01, -1.66667e-01,  8.98305e-01,  6.66667e-01],\n",
       "       [-6.66667e-01, -5.83333e-01,  1.86441e-01,  3.33333e-01],\n",
       "       [ 6.66667e-01, -2.50000e-01,  7.96610e-01,  4.16667e-01],\n",
       "       [ 3.33333e-01, -5.83333e-01,  6.27119e-01,  4.16667e-01],\n",
       "       [ 6.11111e-01,  3.33333e-01,  7.28813e-01,  1.00000e+00],\n",
       "       [ 2.22222e-01,  0.00000e+00,  3.89830e-01,  5.83333e-01],\n",
       "       [ 1.66667e-01, -4.16667e-01,  4.57627e-01,  5.00000e-01],\n",
       "       [ 3.88889e-01, -1.66667e-01,  5.25424e-01,  6.66667e-01],\n",
       "       [-2.22222e-01, -5.83333e-01,  3.55932e-01,  5.83333e-01],\n",
       "       [-1.66667e-01, -3.33333e-01,  3.89830e-01,  9.16667e-01],\n",
       "       [ 1.66667e-01,  0.00000e+00,  4.57627e-01,  8.33333e-01],\n",
       "       [ 2.22222e-01, -1.66667e-01,  5.25424e-01,  4.16667e-01],\n",
       "       [ 8.88889e-01,  5.00000e-01,  9.32203e-01,  7.50000e-01],\n",
       "       [ 8.88889e-01, -5.00000e-01,  1.00000e+00,  8.33333e-01],\n",
       "       [-5.55556e-02, -8.33333e-01,  3.55932e-01,  1.66667e-01],\n",
       "       [ 4.44444e-01,  0.00000e+00,  5.93220e-01,  8.33333e-01],\n",
       "       [-2.77778e-01, -3.33333e-01,  3.22034e-01,  5.83333e-01],\n",
       "       [ 8.88889e-01, -3.33333e-01,  9.32203e-01,  5.83333e-01],\n",
       "       [ 1.11111e-01, -4.16667e-01,  3.22034e-01,  4.16667e-01],\n",
       "       [ 3.33333e-01,  8.33333e-02,  5.93220e-01,  6.66667e-01],\n",
       "       [ 6.11111e-01,  0.00000e+00,  6.94915e-01,  4.16667e-01],\n",
       "       [ 5.55554e-02, -3.33333e-01,  2.88136e-01,  4.16667e-01],\n",
       "       [-1.32455e-07, -1.66667e-01,  3.22034e-01,  4.16667e-01],\n",
       "       [ 1.66667e-01, -3.33333e-01,  5.59322e-01,  6.66667e-01],\n",
       "       [ 6.11111e-01, -1.66667e-01,  6.27119e-01,  2.50000e-01],\n",
       "       [ 7.22222e-01, -3.33333e-01,  7.28813e-01,  5.00000e-01],\n",
       "       [ 1.00000e+00,  5.00000e-01,  8.30508e-01,  5.83333e-01],\n",
       "       [ 1.66667e-01, -3.33333e-01,  5.59322e-01,  7.50000e-01],\n",
       "       [ 1.11111e-01, -3.33333e-01,  3.89830e-01,  1.66667e-01],\n",
       "       [-1.32455e-07, -5.00000e-01,  5.59322e-01,  8.33333e-02],\n",
       "       [ 8.88889e-01, -1.66667e-01,  7.28813e-01,  8.33333e-01],\n",
       "       [ 1.11111e-01,  1.66667e-01,  5.59322e-01,  9.16667e-01],\n",
       "       [ 1.66667e-01, -8.33334e-02,  5.25424e-01,  4.16667e-01],\n",
       "       [-5.55556e-02, -1.66667e-01,  2.88136e-01,  4.16667e-01],\n",
       "       [ 4.44444e-01, -8.33334e-02,  4.91525e-01,  6.66667e-01],\n",
       "       [ 3.33333e-01, -8.33334e-02,  5.59322e-01,  9.16667e-01],\n",
       "       [ 4.44444e-01, -8.33334e-02,  3.89830e-01,  8.33333e-01],\n",
       "       [-1.66667e-01, -4.16667e-01,  3.89830e-01,  5.00000e-01],\n",
       "       [ 3.88889e-01,  0.00000e+00,  6.61017e-01,  8.33333e-01],\n",
       "       [ 3.33333e-01,  8.33333e-02,  5.93220e-01,  1.00000e+00],\n",
       "       [ 3.33333e-01, -1.66667e-01,  4.23729e-01,  8.33333e-01],\n",
       "       [ 1.11111e-01, -5.83333e-01,  3.55932e-01,  5.00000e-01],\n",
       "       [ 2.22222e-01, -1.66667e-01,  4.23729e-01,  5.83333e-01],\n",
       "       [ 5.55554e-02,  1.66667e-01,  4.91525e-01,  8.33333e-01],\n",
       "       [-1.11111e-01, -1.66667e-01,  3.89830e-01,  4.16667e-01]])"
      ]
     },
     "execution_count": 4,
     "metadata": {},
     "output_type": "execute_result"
    }
   ],
   "source": [
    "iris_dataset['data']"
   ]
  },
  {
   "cell_type": "markdown",
   "metadata": {},
   "source": [
    "\n",
    "Por exemplo: dado um banco com a altura de determinadas pessoas (entrada), queremos estimar o \"peso\" dessas pessoas. Nesse caso, o \"peso\" das pessoas é a variável que queremos estimar. Portanto, o \"peso\" nesse caso representaria a nossa saída. Sempre que a nossa saída é conhecida, nós dizemos que esse tipo de problema é um problema de **Aprendizagem Supervisionada**.Há casos em que não necessariamente o nosso problema tem uma saída explícita. Nesse caso, teremos uma **Aprendizagem Não-Supervisionada**.\n",
    "\n",
    "Além disso, quando a **saída assume qualquer valor real** (0, 1.2, 3.14, -26, +34, ...), nós dizemos que temos um **Problema de Regressão**. Por outro lado, quando a **saída é discreta** (0/1, saudável/doente, cachorro/gato/passarinho), nós temos **Problemas de Classificação**.\n",
    "\n",
    "\n",
    "\n",
    "A grande sacada é o que acontece dentro de `f`! A ideia é que não sabemos qual o melhor `f` possível, e poderíamos tentar várias funções para se **ajustar** aos dados.\n",
    "\n",
    "Em geral, elas são matrizes $NxD$, onde $N$ (#linhas) **representa o número de amostras** que seu banco de dados tem e $D$ (#colunas) **representa a quantidade de atributos** de cada amostra, também conhecida por *dimensionalidade*. Como exemplo, imagine que tenhamos um banco de dados com 1.000 amostras e cada amostra tem 5 atributos. Logo, nossas entradas seriam representadas por uma matriz $1000x5$, sacou? "
   ]
  },
  {
   "cell_type": "markdown",
   "metadata": {},
   "source": [
    "\n",
    "\n",
    "As entradas são representadas pelas amostras dos seus dados. Em geral, elas são matrizes $NxD$, onde $N$ (#linhas) **representa o número de amostras** que seu banco de dados tem e $D$ (#colunas) **representa a quantidade de atributos** de cada amostra, também conhecida por *dimensionalidade*. Como exemplo, imagine que tenhamos um banco de dados com 1.000 amostras e cada amostra tem 5 atributos. Logo, nossas entradas seriam representadas por uma matriz $1000x5$, sacou? \n",
    "\n",
    "**As saídas, por sua vez, representam o que você quer que a sua rede aprenda**. Por exemplo: dado um banco com a altura de determinadas pessoas (entrada), queremos estimar o \"peso\" dessas pessoas. Nesse caso, o \"peso\" das pessoas é a variável que queremos estimar. Portanto, o \"peso\" nesse caso representaria a nossa saída. Sempre que a nossa saída é conhecida, nós dizemos que esse tipo de problema é um problema de **Aprendizagem Supervisionada**. Há casos em que não necessariamente o nosso problema tem uma saída explícita. Nesse caso, teremos uma **Aprendizagem Não-Supervisionada**. Além disso, quando a **saída assume qualquer valor real** (0, 1.2, 3.14, -26, +34, ...), nós dizemos que temos um **Problema de Regressão**. Por outro lado, quando a **saída é discreta** (0/1, homem/mulher, cachorro/gato/passarinho), nós temos **Problemas de Classificação**."
   ]
  },
  {
   "cell_type": "markdown",
   "metadata": {},
   "source": [
    "### Arquitetura de Redes Neurais\n",
    "\n",
    "Redes Neurais são definidas em termos de camadas. Em geral, **a primeira camada representa a entrada da rede, enquanto a última camada representa a saída**. Todas as camadas que estão entre as camadas de entrada e saída são chamadas de **camadas escondidas** (ou *hidden layers*). Um exemplo de uma Rede Neural com 2 camadas escondidas pode ser vista na figura abaixo:\n",
    "\n",
    "<img align='center' src='https://cdn-images-1.medium.com/max/1200/0*hzIQ5Fs-g8iBpVWq.jpg' width=500>\n",
    "\n",
    "[Fonte da imagem](https://cdn-images-1.medium.com/max/1200/0*hzIQ5Fs-g8iBpVWq.jpg)\n",
    "\n",
    "Com exceção da camada de entrada, toda camada de uma rede é composta pela seguintes propriedades:\n",
    "\n",
    "- **número de neurônios**: na figura acima, as duas camadas escondidas tem 4 neurônios, enquanto a camada de saída tem apenas 1.\n",
    "- **parâmetros**: cada neurônio recebe como entrada todos as saídas dos neurônios das camadas anteriores. Cada entrada dessa é multiplicada por um peso correspondente. **Tais pesos representam o que a Rede Neural pode ajustar para encontrar a solução do problema e são conhecidos como parâmetros**. \n",
    "\n",
    "> ⚠️ **Cuidado: não confunda parâmetro com hiperparâmetros!** Parâmetros são o que a sua rede usa para aprender (pesos e bias), enquanto hiperparâmetros são o que você define acerca da sua rede (número de camadas, qtde. de neurônios por camada, função de ativação de cada camada, etc...)\n",
    "\n",
    "- **função de ativação**: cada neurônio da rede tem uma função de ativação embutida. Elas são responsáveis por dar o poder de não-linearidade à rede - quando você usa uma função de ativação não-linear (*sigmoid*, *tanh*, *ReLU*, etc...), obviamente. Nós estudaremos sobre elas mais à frente um pouco."
   ]
  },
  {
   "cell_type": "code",
   "execution_count": 5,
   "metadata": {},
   "outputs": [],
   "source": [
    "class MyFirstNeuralNetwork(object):\n",
    "\n",
    "    def __init__(self, weights=0.5):\n",
    "        self._weights = weights\n",
    "    \n",
    "    def function(self, _input):\n",
    "        return self._activation_function(_input * self._weights)\n",
    "    \n",
    "    def _activation_function(self, data):\n",
    "        return data"
   ]
  },
  {
   "cell_type": "code",
   "execution_count": 6,
   "metadata": {},
   "outputs": [],
   "source": [
    "nn = MyFirstNeuralNetwork()"
   ]
  },
  {
   "cell_type": "markdown",
   "metadata": {},
   "source": [
    "## Referências\n",
    "\n",
    "Este conteúdo é baseado nos seguintes materiais:\n",
    "\n",
    "- [Capítulo 3](https://github.com/iamtrask/Grokking-Deep-Learning) de Grokking Deep Learning.\n",
    "- [Perceptron](https://en.wikipedia.org/wiki/Perceptron) da Wikipedia\n",
    "- [Frank Rosenblatt](https://en.wikipedia.org/wiki/Frank_Rosenblatt) da Wikipedia\n",
    "- [Geoffrey Hinton](https://en.wikipedia.org/wiki/Geoffrey_Hinton) da Wikipedia\n",
    "- [Backpropagation](https://en.wikipedia.org/wiki/Backpropagation) da Wikipedia"
   ]
  },
  {
   "cell_type": "code",
   "execution_count": null,
   "metadata": {},
   "outputs": [],
   "source": []
  }
 ],
 "metadata": {
  "kernelspec": {
   "display_name": "Python 2",
   "language": "python",
   "name": "python2"
  },
  "language_info": {
   "codemirror_mode": {
    "name": "ipython",
    "version": 2
   },
   "file_extension": ".py",
   "mimetype": "text/x-python",
   "name": "python",
   "nbconvert_exporter": "python",
   "pygments_lexer": "ipython2",
   "version": "2.7.12"
  }
 },
 "nbformat": 4,
 "nbformat_minor": 2
}
