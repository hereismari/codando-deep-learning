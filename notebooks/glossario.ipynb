{
 "cells": [
  {
   "cell_type": "markdown",
   "metadata": {},
   "source": [
    "# Glossário\n",
    "\n",
    "Definição dos termos utilizados ao longo do curso.\n",
    "\n",
    "* [Acurácia](#acuracia)\n",
    "* [Atributo](#atributo)\n",
    "* [Base de dados iris](#iris)"
   ]
  },
  {
   "cell_type": "markdown",
   "metadata": {},
   "source": [
    "<a id='acuracia'></a>"
   ]
  },
  {
   "cell_type": "markdown",
   "metadata": {},
   "source": [
    "# Acurácia\n",
    "\n",
    "Quanto porcento da base de dados avaliamos corretamente.\n",
    "\n",
    "Exemplo:\n",
    "\n",
    "Digamos que temos 3 exemplos na nossa base de dados, onde esperamos os seguintes valores de saída para cada exemplo [0, 1, 1].\n",
    "\n",
    "Temos:\n",
    "```\n",
    "acurácia = 1, apenas se acertamos tudo: [0, 1, 1].  \n",
    "acurácia = 0.66, se comparamos esses valores com [1, 1, 1] (acertamos as duas últimas saídas).  \n",
    "acurácia = 0.33, se comparamos esses valores com [1, 0, 1] (acertamos apenas a última saída).  \n",
    "acurácia = 0, se errarmos todas as saídas: [1, 0, 0].  \n",
    "```"
   ]
  },
  {
   "cell_type": "code",
   "execution_count": 1,
   "metadata": {},
   "outputs": [
    {
     "ename": "SyntaxError",
     "evalue": "invalid syntax (<ipython-input-1-f8315d3082fd>, line 1)",
     "output_type": "error",
     "traceback": [
      "\u001b[0;36m  File \u001b[0;32m\"<ipython-input-1-f8315d3082fd>\"\u001b[0;36m, line \u001b[0;32m1\u001b[0m\n\u001b[0;31m    <a id='atributo'></a>\u001b[0m\n\u001b[0m    ^\u001b[0m\n\u001b[0;31mSyntaxError\u001b[0m\u001b[0;31m:\u001b[0m invalid syntax\n"
     ]
    }
   ],
   "source": [
    "<a id='atributo'></a>"
   ]
  },
  {
   "cell_type": "markdown",
   "metadata": {},
   "source": [
    "## Atributo\n",
    "\n",
    "Um aspecto que distíngue um elemento específico de outros elementos em um dado contexto.\n",
    "\n",
    "Exemplo 1:\n",
    "\n",
    "Digamos que você quer comprar um carro, neste contexto alguns dos atributos do carro seriam: cor, tamanho, preço, número de portas, se tem ou não ar-condicionado, etc.\n",
    "\n",
    "Exemplo 2:\n",
    "\n",
    "Digamos que você perdeu seu carro em um estacionamento, neste contexto alguns dos atributos relevantes do carro seriam: cor, tamanho, se tem ou não um adesivo escrito \"MENGÃO\", placa, etc.\n"
   ]
  },
  {
   "cell_type": "markdown",
   "metadata": {},
   "source": [
    "<a id='iris'></a>"
   ]
  },
  {
   "cell_type": "markdown",
   "metadata": {},
   "source": [
    "## Base de dados Iris\n",
    "\n",
    "A base de dados Iris foi publicada originalmente no [UCI Machine Learning Repository](http://archive.ics.uci.edu/ml/datasets/iris) e é bastante utilizada em tutoriais por sua simplicidade.\n",
    "\n",
    "É uma pequena base contendo 150 exemplos de plantas de 3 diferentes espécies (setosa, versicolour e virginica). É bastante utilizada para a tarefa de classificação onde nos baseando nos atributos tentamos classificar um exemplo como uma das espécies: setosa, versicolour ou virginica.\n",
    "\n",
    "* Atributos:\n",
    "    1. comprimento da sépala (centímetros) \n",
    "    2. largura da sépala (centímetros)\n",
    "    3. comprimento da petala (centímetros)\n",
    "    4. largura da pétala  (centímetros)\n",
    "5. Classes: \n",
    "    0. Iris Setosa \n",
    "    1. Iris Versicolour \n",
    "    2. Iris Virginica\n",
    "    \n",
    "![](https://s3.amazonaws.com/assets.datacamp.com/blog_assets/Machine+Learning+R/iris-machinelearning.png)\n",
    "Imagem de: https://www.datacamp.com/community/tutorials/machine-learning-in-r"
   ]
  },
  {
   "cell_type": "code",
   "execution_count": null,
   "metadata": {},
   "outputs": [],
   "source": []
  }
 ],
 "metadata": {
  "kernelspec": {
   "display_name": "Python 2",
   "language": "python",
   "name": "python2"
  },
  "language_info": {
   "codemirror_mode": {
    "name": "ipython",
    "version": 2
   },
   "file_extension": ".py",
   "mimetype": "text/x-python",
   "name": "python",
   "nbconvert_exporter": "python",
   "pygments_lexer": "ipython2",
   "version": "2.7.12"
  }
 },
 "nbformat": 4,
 "nbformat_minor": 2
}
