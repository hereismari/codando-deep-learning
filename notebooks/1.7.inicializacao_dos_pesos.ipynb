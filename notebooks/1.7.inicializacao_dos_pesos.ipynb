{
 "cells": [
  {
   "cell_type": "markdown",
   "metadata": {},
   "source": [
    "# 1.7 Inicialização dos Pesos"
   ]
  },
  {
   "cell_type": "markdown",
   "metadata": {},
   "source": [
    "## Bem vind@s ao mundo estocástico!\n",
    "\n",
    "Vimos que redes neurais são um formadas por um conjunto de parâmetros chamados de **pesos** e **bias**. \n",
    "\n",
    "> Não confunda **parâmetros** com **hiperparâmetros**. Parâmetros são os valores que sua rede aprende (pesos e bias). Hiperparâmetros são os valores relacionados ao treinamento da sua rede: *learning rate*, número de camadas/neurônios, função de ativação de cada camada, etc...\n",
    "\n",
    "Nós também vimos que os pesos e bias são, em geral, inicializados com valores aleatórios. Por conta disso, é muito díficil que duas redes distintas chegem no mesmo resultado. Além disso, nós nunca teremos certeza que tal resultado é o melhor possível (mínimo global) e, dependendo dos valores iniciais, uma rede pode nunca convergir.\n",
    "\n",
    "Claro que, para evitar alguns desses problemas, nós podemos mexer nos hiperparâmetros como *learning rate*, o otimizador, adicionar momentum, entre outros. Se você não conhece sobre eles ainda, não se preocupe! Nós vamos falar sobre eles mais a frente nesse curso. Outra alternativa é inicializar os pesos de diferentes maneiras. E aí, vamos aprender sobre elas?"
   ]
  },
  {
   "cell_type": "markdown",
   "metadata": {},
   "source": [
    "## Inicialização com Zeros"
   ]
  },
  {
   "cell_type": "markdown",
   "metadata": {},
   "source": [
    "> \"Eu prefiro lutar em 0 graus, pois não é nem quente, nem frio!\" <br> Maguila (ex-lutador de boxe)\n",
    "\n",
    "Baseado nesse pensamento, muitas pessoas já pensaram em inicializar os pesos com zero. Dessa forma, todos os pesos começarão com valores iguais, nenhum sendo mais importante que o outro, nem dando mais importância para um determinado atributo dos seus dados. Além disso, é muito simples fazer isso com numpy:"
   ]
  },
  {
   "cell_type": "code",
   "execution_count": 2,
   "metadata": {},
   "outputs": [
    {
     "data": {
      "text/plain": [
       "array([[0., 0., 0.],\n",
       "       [0., 0., 0.],\n",
       "       [0., 0., 0.]])"
      ]
     },
     "execution_count": 2,
     "metadata": {},
     "output_type": "execute_result"
    }
   ],
   "source": [
    "import numpy as np\n",
    "\n",
    "pesos = np.zeros(shape=(3, 3))\n",
    "pesos"
   ]
  },
  {
   "cell_type": "markdown",
   "metadata": {},
   "source": [
    "Parece uma boa ideia, né? <font color='red'>**Errado!**</font> **Essa é pior coisa que se pode fazer ao inicializar os pesos de uma rede neural!** Parando para pensar um pouco melhor, fazendo isso nós vamos zerar todos os neurônios bem como os gradientes de aprendizagem. **Se os gradientes são zeros, como a rede vai aprender alguma coisa, então?** Sem contar que você será mal visto pela sua família e amigos se inicializar seus pesos com zeros. Em outras palavras, não pense como o Maguila e não faça isso nunca!"
   ]
  },
  {
   "cell_type": "markdown",
   "metadata": {},
   "source": [
    "## Inicialização com 1s"
   ]
  },
  {
   "cell_type": "markdown",
   "metadata": {},
   "source": [
    "Nesse momento, você deve estar pensando: \"Tá bom, tá bom. Eu já entendi que inicializar todos os pesos com zero é ruim. Mas, e se inicializamos todos os pesos com 1s, então?\" \n",
    "\n",
    "A resposta é: **é tão ruim quanto!** Pensando um pouquinho, lembra que na primeira camada todos os neurônios recebem as mesmas entradas? Então, se todos os neurônios receberam as mesmas entradas e todos eles tem o mesmo valor de peso (=1), o que que vai acontecer? Isso mesmo: **todos os neurônios vão dar o mesmo resultado!** \n",
    "\n",
    "Ainda nessa linha de pensamento, como todos os neurônios vão da próxima camada vão receber o resultado de cada neurônio dessa camada (que são todos iguais), a mesma coisa vai se repetir. No fim das contas, você pode até ter um pouquinho de gradiente, mas os gradientes para os neurônios de uma mesma camada vão ser iguais. Assim, seus neurônios vão continuar sem aprender muita coisa.\n",
    "\n",
    "> Resumindo até aqui: **não inicialize os seus neurônios com o mesmo valor, pior ainda se esse valor for igual a zero!**\n",
    "\n",
    "Se você entendeu isso, deve ter percebido que a melhor maneira de inicializar pesos é dando valores aleatórios para cada um deles. A pergunta agora é: será que é melhor uma variância baixa, alta? Será que a média deve ser zero? É melhor uma distribuição normal ou uniforme?\n",
    "\n",
    "É isso que vamos ver nas próximas seções."
   ]
  },
  {
   "cell_type": "markdown",
   "metadata": {},
   "source": [
    "## Inicialização aleatória uniforme"
   ]
  },
  {
   "cell_type": "markdown",
   "metadata": {},
   "source": [
    "Inicializar os pesos aleatórios de forma uniforme (mesma probabilidade para todo mundo) é fácil com numpy:"
   ]
  },
  {
   "cell_type": "code",
   "execution_count": 3,
   "metadata": {},
   "outputs": [
    {
     "data": {
      "image/png": "[encoded data removed]",
      "text/plain": [
       "<Figure size 432x288 with 1 Axes>"
      ]
     },
     "metadata": {
      "needs_background": "light"
     },
     "output_type": "display_data"
    }
   ],
   "source": [
    "import matplotlib.pyplot as plt\n",
    "%matplotlib inline\n",
    "\n",
    "pesos_uniforme = 10*np.random.rand(1000) - 5 # pesos entre -5 e 5\n",
    "plt.hist(pesos_uniforme)\n",
    "plt.show()"
   ]
  },
  {
   "cell_type": "markdown",
   "metadata": {},
   "source": [
    "Repare que como os valores dos pesos têm praticamente uma mesma probabilidade de ocorrência (distribuição uniforme). **Pesos como essa distribuição são bons para quebrar a simetria da rede e vão fazer sua rede aprender alguma coisa**."
   ]
  },
  {
   "cell_type": "markdown",
   "metadata": {},
   "source": [
    "## Inicialização aleatória normal"
   ]
  },
  {
   "cell_type": "code",
   "execution_count": 4,
   "metadata": {},
   "outputs": [
    {
     "data": {
      "image/png": "[encoded data removed]",
      "text/plain": [
       "<Figure size 432x288 with 1 Axes>"
      ]
     },
     "metadata": {
      "needs_background": "light"
     },
     "output_type": "display_data"
    }
   ],
   "source": [
    "pesos_normal = 5*np.random.randn(1000) + 3 # média = 3 e desvio-padrão = 5\n",
    "\n",
    "plt.hist(pesos_normal, bins=40)\n",
    "plt.show()"
   ]
  },
  {
   "cell_type": "markdown",
   "metadata": {},
   "source": [
    "Diferente da distribuição uniforme, os pesos agora são inicializados por uma distribuição normal, isto é, com certa média e desvio padrão. Ou seja, pesos mais próximos da média são mais comuns e quanto mais \"desvios-padrões\" além da média, menor a probabilidade. Da mesma forma que a distribuição uniforme, **pesos com essa distribuição também são bons para quebrar a simetria da rede**."
   ]
  },
  {
   "cell_type": "markdown",
   "metadata": {},
   "source": [
    "## Inicialização Glorot Uniforme"
   ]
  },
  {
   "cell_type": "markdown",
   "metadata": {},
   "source": [
    "A gente viu até aqui duas formas ruins de inicializar os pesos (zeros e uns) e duas formas boas (uniforme e normal). Porém, como o melhor sempre fica pro final, chegou a hora de descobrir as melhores formas de inicialização de pesos. \n",
    "E sabe o que as tornam tão especiais? Vamos ver adiante. ~~Spoiler: elas levam em consideração o tamanho das camadas~~\n",
    "\n",
    "A **Glorot Uniforme**, também conhecida como **Xavier Uniforme**, é uma distribuição uniforme que leva em consideração a quantidade de neurônios da camada atual e anterior da sua rede. Na prática, os pesos são inicializados baseados na seguinte fórmula:\n",
    "\n",
    "$$w = 2*\\sigma*rand() - \\sigma$$\n",
    "\n",
    "onde,\n",
    "\n",
    "$$\\sigma = \\sqrt{\\frac{6}{in + out}}$$\n",
    "\n",
    "Supondo que a camada atual tem 5 neurônios e a camada anterior tinha 3, a implementação em Python ficaria dessa forma:"
   ]
  },
  {
   "cell_type": "code",
   "execution_count": 9,
   "metadata": {},
   "outputs": [
    {
     "name": "stdout",
     "output_type": "stream",
     "text": [
      "[[-0.21730289  0.78066008  0.40182529]\n",
      " [ 0.17088151 -0.59579319 -0.59583497]\n",
      " [-0.76542164  0.63423569  0.17513634]\n",
      " [ 0.36039228 -0.83037201  0.81390774]\n",
      " [ 0.57580754 -0.49824328 -0.55109532]]\n"
     ]
    }
   ],
   "source": [
    "np.random.seed(42) # para que o seu resultado seja igual ao meu :)\n",
    "\n",
    "sigma = np.sqrt(6 / (5 + 3))\n",
    "pesos = 2 * sigma * np.random.rand(5, 3) - sigma\n",
    "print(pesos)"
   ]
  },
  {
   "cell_type": "markdown",
   "metadata": {},
   "source": [
    "## Inicialização Glorot Normal"
   ]
  },
  {
   "cell_type": "markdown",
   "metadata": {},
   "source": [
    "A **Glorot Normal**, também conhecida como **Xavier Normal**, é bem parecida com a sua irmã uniforme. A diferença, na verdade, é que agora vamos fazer a amostragem dos pesos baseado numa distribuição normal ~~(não diga!)~~, também levando em consideração a quantidade de neurônios da camada atual e anterior:\n",
    "\n",
    "$$w = \\sigma * randN()$$\n",
    "\n",
    "também teremos uma pequena diferençazinha no $\\sigma$:\n",
    "\n",
    "$$\\sigma = \\sqrt{\\frac{2}{in + out}}$$\n",
    "\n",
    "Em Python, considerando a mesma rede com 5 e 3 neurônios:"
   ]
  },
  {
   "cell_type": "code",
   "execution_count": 10,
   "metadata": {},
   "outputs": [
    {
     "name": "stdout",
     "output_type": "stream",
     "text": [
      "[[ 0.24835708 -0.06913215  0.32384427]\n",
      " [ 0.76151493 -0.11707669 -0.11706848]\n",
      " [ 0.78960641  0.38371736 -0.23473719]\n",
      " [ 0.27128002 -0.23170885 -0.23286488]\n",
      " [ 0.12098114 -0.95664012 -0.86245892]]\n"
     ]
    }
   ],
   "source": [
    "np.random.seed(42) # mesma semente do exemplo anterior para gente comparar os pesos\n",
    "\n",
    "sigma = np.sqrt(2 / (5 + 3))\n",
    "pesos = sigma * np.random.randn(5, 3)\n",
    "print(pesos)"
   ]
  },
  {
   "cell_type": "markdown",
   "metadata": {},
   "source": [
    "Pronto! Agora você sabe tudo sobre inicialização de pesos em redes neurais. Provavelmente, a sua única dúvida na cabeça agora é: **da onde vem o $2$ e $6$ nas fórmulas do $\\sigma$ das distribuições Glorot?** A verdade é que, no [artigo original](http://proceedings.mlr.press/v9/glorot10a/glorot10a.pdf), os autores testaram diversos valores em diversas redes e simplesmente esses valores levaram aos melhores resultados. É, meus amigos e amigas, esse é o mundo da redes neurais: tentativa e erro!"
   ]
  }
 ],
 "metadata": {
  "kernelspec": {
   "display_name": "Python 3",
   "language": "python",
   "name": "python3"
  },
  "language_info": {
   "codemirror_mode": {
    "name": "ipython",
    "version": 3
   },
   "file_extension": ".py",
   "mimetype": "text/x-python",
   "name": "python",
   "nbconvert_exporter": "python",
   "pygments_lexer": "ipython3",
   "version": "3.6.7"
  }
 },
 "nbformat": 4,
 "nbformat_minor": 2
}
